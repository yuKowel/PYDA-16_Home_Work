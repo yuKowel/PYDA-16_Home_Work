{
 "cells": [
  {
   "cell_type": "markdown",
   "metadata": {},
   "source": [
    "## Задание 1\n",
    "```\n",
    "Печатные газеты использовали свой формат дат для каждого выпуска. Для каждой газеты из списка напишите формат указанной даты для перевода в объект datetime.\n",
    "```"
   ]
  },
  {
   "cell_type": "code",
   "execution_count": null,
   "metadata": {},
   "outputs": [],
   "source": [
    "the_moscow_times = 'Wednesday, October 2, 2002'\n",
    "the_guardian = 'Friday, 11.10.13'\n",
    "daily_news = 'Thursday, 18 August 1977'\n",
    "\n",
    "from datetime import datetime\n",
    "\n",
    "data_the_moscow_times = datetime.strptime(the_moscow_times, '%A, %B %d, %Y')\n",
    "data_the_guardian = datetime.strptime(the_guardian,'%A, %d.%m.%y')\n",
    "data_daily_news =  datetime.strptime(daily_news, '%A, %d %B %Y')\n",
    "print()"
   ]
  },
  {
   "cell_type": "markdown",
   "metadata": {},
   "source": [
    "## Задание 2\n",
    "```\n",
    "Дан поток дат в формате YYYY-MM-DD, в которых встречаются некорректные значения:\n",
    "stream = [‘2018-04-02’, ‘2018-02-29’, ‘2018-19-02’]\n",
    "Напишите функцию, которая проверяет эти даты на корректность. Т. е. для каждой даты возвращает True (дата корректна) или False (некорректная дата).\n",
    "```\n"
   ]
  },
  {
   "cell_type": "code",
   "execution_count": 25,
   "metadata": {},
   "outputs": [
    {
     "name": "stdout",
     "output_type": "stream",
     "text": [
      "дата 2018-04-02 корректна\n",
      "дата 2018-02-29 некорректна\n",
      "дата 2018-19-02 некорректна\n"
     ]
    }
   ],
   "source": [
    "from datetime import datetime\n",
    "\n",
    "def is_valid_date(date_str):\n",
    "    try:\n",
    "        datetime.strptime(date_str, '%Y-%m-%d')\n",
    "        return True\n",
    "    except:\n",
    "        return False\n",
    "\n",
    "stream = ['2018-04-02', '2018-02-29', '2018-19-02']\n",
    "for date_str in stream: \n",
    "    if is_valid_date(date_str):\n",
    "        print(f'дата {date_str} корректна')\n",
    "    else:\n",
    "        print(f'дата {date_str} некорректна')\n"
   ]
  },
  {
   "cell_type": "markdown",
   "metadata": {},
   "source": [
    "## Задание 3\n",
    "```\n",
    "Напишите функцию date_range, которая возвращает список дат за период от start_date до end_date. \n",
    "Даты должны вводиться в формате YYYY-MM-DD. \n",
    "В случае неверного формата или при start_date > end_date должен возвращаться пустой список.\n",
    "```"
   ]
  },
  {
   "cell_type": "code",
   "execution_count": 27,
   "metadata": {},
   "outputs": [
    {
     "name": "stdout",
     "output_type": "stream",
     "text": [
      "Введите начальную дату: 2020-01-01\n",
      "Введите конечную дату: 2020-01-07\n",
      "2020-01-01\n",
      "2020-01-02\n",
      "2020-01-03\n",
      "2020-01-04\n",
      "2020-01-05\n",
      "2020-01-06\n",
      "2020-01-07\n"
     ]
    }
   ],
   "source": [
    "from datetime import timedelta\n",
    "from datetime import datetime\n",
    "\n",
    "def date_range(start_date_str, end_date_str):\n",
    "    try:\n",
    "        start_date = datetime.strptime(start_date_str, '%Y-%m-%d')\n",
    "        end_date = datetime.strptime(end_date_str, '%Y-%m-%d') \n",
    "    except ValueError:\n",
    "        return []\n",
    "    \n",
    "    if start_date > end_date:\n",
    "        return []\n",
    "    \n",
    "    result_range = []\n",
    "    current_date = start_date\n",
    "    while current_date <= end_date:\n",
    "        result_range.append(current_date)\n",
    "        current_date += timedelta(days = 1)\n",
    "    return result_range\n",
    "\n",
    "start_date_raw = input('Введите начальную дату: ')\n",
    "end_date_raw = input('Введите конечную дату: ')    \n",
    "result = date_range(start_date_raw, end_date_raw)\n",
    "print('\\n'.join([d.strftime('%Y-%m-%d') for d in result]))"
   ]
  },
  {
   "cell_type": "code",
   "execution_count": null,
   "metadata": {},
   "outputs": [],
   "source": []
  }
 ],
 "metadata": {
  "kernelspec": {
   "display_name": "Python 3",
   "language": "python",
   "name": "python3"
  },
  "language_info": {
   "codemirror_mode": {
    "name": "ipython",
    "version": 3
   },
   "file_extension": ".py",
   "mimetype": "text/x-python",
   "name": "python",
   "nbconvert_exporter": "python",
   "pygments_lexer": "ipython3",
   "version": "3.8.3"
  }
 },
 "nbformat": 4,
 "nbformat_minor": 4
}

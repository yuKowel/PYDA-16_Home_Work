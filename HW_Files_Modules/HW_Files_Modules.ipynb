{
 "cells": [
  {
   "cell_type": "code",
   "execution_count": 56,
   "metadata": {
    "scrolled": true
   },
   "outputs": [],
   "source": [
    "import json\n",
    "\n",
    "with open('purchase_log.txt', encoding = 'utf-8') as f:\n",
    "    purchases = dict()\n",
    "    for line in f:\n",
    "        line = line.strip()\n",
    "        purchase_dict = json.loads(line)\n",
    "        user_id = purchase_dict['user_id']\n",
    "        category = purchase_dict['category']\n",
    "        purchases[user_id] = category\n",
    "    \n",
    "with open('visit_log.csv', 'r', encoding = 'utf-8') as visit_log_file, open('funnel.csv', 'w', encoding = 'utf-8') as funnel_file:\n",
    "    for line in visit_log_file:\n",
    "        user_id, source = line.strip().split(',')\n",
    "        if user_id in purchases:\n",
    "            funnel_line = ','.join([user_id, source, purchases[user_id]]) + '\\n'\n",
    "            funnel_file.write(funnel_line)    \n"
   ]
  },
  {
   "cell_type": "code",
   "execution_count": 57,
   "metadata": {},
   "outputs": [],
   "source": [
    "import json\n",
    "\n",
    "with open('purchase_log.txt', encoding = 'utf-8') as f:\n",
    "    purchases = dict()\n",
    "    for line in f:\n",
    "        purchase_dict = json.loads(line.strip())\n",
    "        purchases[purchase_dict['user_id']] = purchase_dict['category']\n",
    "\n",
    "with open('visit_log.csv', 'r', encoding = 'utf-8') as visit_log_file, open('funnel.csv', 'w', encoding = 'utf-8') as funnel_file:\n",
    "    for line in visit_log_file:\n",
    "        user_id, source = line.strip().split(',')\n",
    "        if user_id in purchases:\n",
    "            funnel_file.write(','.join([user_id, source, purchases[user_id]]) + '\\n')    "
   ]
  },
  {
   "cell_type": "code",
   "execution_count": null,
   "metadata": {},
   "outputs": [],
   "source": []
  }
 ],
 "metadata": {
  "kernelspec": {
   "display_name": "Python 3",
   "language": "python",
   "name": "python3"
  },
  "language_info": {
   "codemirror_mode": {
    "name": "ipython",
    "version": 3
   },
   "file_extension": ".py",
   "mimetype": "text/x-python",
   "name": "python",
   "nbconvert_exporter": "python",
   "pygments_lexer": "ipython3",
   "version": "3.8.3"
  }
 },
 "nbformat": 4,
 "nbformat_minor": 4
}

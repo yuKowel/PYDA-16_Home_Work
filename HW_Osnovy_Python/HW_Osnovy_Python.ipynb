{
 "cells": [
  {
   "cell_type": "markdown",
   "metadata": {},
   "source": [
    "\n",
    "# Задание 1\n",
    "Даны 2 переменных, в которых хранятся строки произвольной длины: phrase_1 и phrase_2.\n",
    "Напишите код, который проверяет какая из этих строк длиннее."
   ]
  },
  {
   "cell_type": "code",
   "execution_count": null,
   "metadata": {},
   "outputs": [],
   "source": [
    "phrase_1 = 'Насколько проще было бы писать программы, если бы не заказчики'\n",
    "phrase_2 = '640Кб должно хватить для любых задач. Билл Гейтс (по легенде)'\n",
    "\n",
    "if len(phrase_1) > len(phrase_2):\n",
    "    print('Фраза 1 длиннее фразы 2')\n",
    "elif len(phrase_1) < len(phrase_2):\n",
    "    print('Фраза 2 длиннее фразы 1')\n",
    "else:\n",
    "    print('Фразы равной длины')\n"
   ]
  },
  {
   "cell_type": "markdown",
   "metadata": {},
   "source": [
    "\n",
    "# Задание 2\n",
    "\n",
    "Дана переменная, в которой хранится четырехзначное число (год). Необходимо написать программу, которая выведет, является ли данный год високосным или обычным.\n",
    "\n"
   ]
  },
  {
   "cell_type": "code",
   "execution_count": 1,
   "metadata": {},
   "outputs": [
    {
     "name": "stdout",
     "output_type": "stream",
     "text": [
      "Обычный год\n"
     ]
    }
   ],
   "source": [
    "year = 1847\n",
    "if year % 4 == 0:\n",
    "    if year % 100 ==0:\n",
    "        if year % 4 ==0:\n",
    "            print('Високосный год')\n",
    "        else:\n",
    "            print('Обычный год')\n",
    "    else:\n",
    "        print('Високосный год')\n",
    "else:\n",
    "    print('Обычный год')"
   ]
  },
  {
   "cell_type": "markdown",
   "metadata": {},
   "source": [
    "# Задание 3\n",
    "\n",
    "Необходимо написать программу, которая будет запрашивать у пользователя месяц и дату рождения и выводить соответствующий знак зодиака.\n"
   ]
  },
  {
   "cell_type": "code",
   "execution_count": 6,
   "metadata": {},
   "outputs": [
    {
     "name": "stdout",
     "output_type": "stream",
     "text": [
      "Введите день:25\n",
      "Введите месяц:Март\n",
      "Овен\n"
     ]
    }
   ],
   "source": [
    "date = int(input('Введите день:'))\n",
    "month = input('Введите месяц:')\n",
    "# if (date >= 21 and date <= 31 and month == 'Март') or (month == 'Апрель' and date >= 1 and date <= 19):\n",
    "if (21 <= date <= 31 and month == 'Март') or (month == 'Апрель' and date >= 1 and date <= 19):\n",
    "   print('Овен')\n",
    "elif (date >= 20 and date <= 30 and month == 'Апрель') or (month == 'Май' and date >= 1 and date <= 20):\n",
    "   print('Телец')\n",
    "elif (date >= 21 and date <= 31 and month == 'Май') or (month == 'Июнь' and date >= 1 and date <= 21):\n",
    "   print('Близнецы')\n",
    "elif (date >= 22 and date <= 30 and month == 'Июнь') or (month == 'Июль' and date >= 1 and date <= 22):\n",
    "   print('Рак')\n",
    "elif (date >= 23 and date <= 31 and month == 'Июль') or (month == 'Август' and date >= 1 and date <= 22):\n",
    "   print('Лев')\n",
    "elif (date >= 23 and date <= 31 and month == 'Август') or (month == 'Сентябрь' and date >= 1 and date <= 22):\n",
    "   print('Дева')\n",
    "elif (date >= 23 and date <= 30 and month == 'Сентябрь') or (month == 'Октбярь' and date >= 1 and date <= 23):\n",
    "   print('Весы')\n",
    "elif (date >= 24 and date <= 31 and month == 'Октябрь') or (month == 'Ноябрь' and date >= 1 and date <= 22):\n",
    "   print('Скорпион')\n",
    "elif (date >= 23 and date <= 30 and month == 'Ноябрь') or (month == 'Декабрь' and date >= 1 and date <= 21):\n",
    "   print('Стрелец')\n",
    "elif (date >= 22 and date <= 31 and month == 'Декабрь') or (month == 'Январь' and date >= 1 and date <= 20):\n",
    "   print('Козерог')\n",
    "elif (date >= 21 and date <= 31 and month == 'Январь') or (month == 'Февраль' and date >= 1 and date <= 18):\n",
    "   print('Водолей')\n",
    "elif (date >= 19 and date <= 29 and month == 'Февраль') or (month == 'Март' and date >= 1 and date <= 20):\n",
    "   print('Рыбы')"
   ]
  },
  {
   "cell_type": "markdown",
   "metadata": {},
   "source": [
    "# Задание 4\n",
    "\n",
    "Вам нужно написать программу для подбора упаковок по размерам товара."
   ]
  },
  {
   "cell_type": "code",
   "execution_count": 8,
   "metadata": {},
   "outputs": [
    {
     "name": "stdout",
     "output_type": "stream",
     "text": [
      "Стандартная коробка №3\n"
     ]
    }
   ],
   "source": [
    "width = 205\n",
    "length = 15\n",
    "height = 15\n",
    "if width < 15 and length < 15 and height < 15:\n",
    "    print('Коробка №1')\n",
    "elif 15 < width < 50 or 15 < length < 50 or 15 < height < 50:\n",
    "    print('Коробка №2')\n",
    "elif length > 200:\n",
    "    print('Упаковка для лыж')\n",
    "else:\n",
    "    print('Стандартная коробка №3')"
   ]
  },
  {
   "cell_type": "markdown",
   "metadata": {},
   "source": [
    "# Задание 5 (необязательное)\n",
    "\n",
    "Дана переменная, в которой хранится шестизначное число (номер проездного билета). Напишите программу, которая будет определять, является ли данный билет \"счастливым\""
   ]
  },
  {
   "cell_type": "code",
   "execution_count": null,
   "metadata": {},
   "outputs": [],
   "source": [
    "digits = tuple(input())\n",
    "if len(digits) == 6:\n",
    "    if int(digits[0]) + int(digits[1]) + int(digits[2]) == int(digits[3]) + int(digits[4]) + int(digits[5]):\n",
    "        print('Счастливый билет')\n",
    "    else:\n",
    "        print('Несчастливый билет')\n",
    "else:\n",
    "    print('Неправильно введенные данные')"
   ]
  },
  {
   "cell_type": "markdown",
   "metadata": {},
   "source": [
    "\n",
    "# Задание 6 (необязательное)\n",
    "```\n",
    "Напишите программу, которая сможет вычислять площади трех фигур (круг, треугольник и прямоугольник). Тип фигуры запрашиваем через пользовательский ввод, после чего делаем запрос характеристик фигуры:\n",
    "\n",
    "```"
   ]
  },
  {
   "cell_type": "code",
   "execution_count": 4,
   "metadata": {},
   "outputs": [
    {
     "name": "stdout",
     "output_type": "stream",
     "text": [
      "Введите тип фигуры  Треугольник\n",
      "Введите длину стороны A  3\n",
      "Введите длину стороны B  4\n",
      "Введите длину стороны C  5\n",
      "Площадь треугольника:  6.0\n"
     ]
    }
   ],
   "source": [
    "figure = input('Введите тип фигуры  ')\n",
    "if figure == 'Круг':\n",
    "    radius = int(input('Введите радиус круга  '))\n",
    "    S = 3.14 * (radius ** 2)\n",
    "    print('Площадь круга:  ' + str(S))\n",
    "elif figure == 'Прямоугольник':\n",
    "    A = int(input('Введите длину стороны A  '))\n",
    "    B = int(input('Введите длину стороны B  '))\n",
    "    S = A * B\n",
    "    print('Площадь прямоугольника:  ' + str(S))\n",
    "elif figure == 'Треугольник':\n",
    "    A = int(input('Введите длину стороны A  '))\n",
    "    B = int(input('Введите длину стороны B  '))\n",
    "    C = int(input('Введите длину стороны C  '))\n",
    "    P = (A + B + C) / 2\n",
    "    S = (P * (P - A) * (P - B) * (P - C)) ** 0.5\n",
    "    print('Площадь треугольника:  ' + str(S))\n",
    "else:\n",
    "    print('Неверно введенные данные')"
   ]
  }
 ],
 "metadata": {
  "kernelspec": {
   "display_name": "Python 3",
   "language": "python",
   "name": "python3"
  },
  "language_info": {
   "codemirror_mode": {
    "name": "ipython",
    "version": 3
   },
   "file_extension": ".py",
   "mimetype": "text/x-python",
   "name": "python",
   "nbconvert_exporter": "python",
   "pygments_lexer": "ipython3",
   "version": "3.8.3"
  }
 },
 "nbformat": 4,
 "nbformat_minor": 4
}
